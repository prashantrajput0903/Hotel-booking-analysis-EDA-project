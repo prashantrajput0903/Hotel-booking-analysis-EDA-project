{
  "nbformat": 4,
  "nbformat_minor": 0,
  "metadata": {
    "colab": {
      "private_outputs": true,
      "provenance": [],
      "collapsed_sections": [
        "vncDsAP0Gaoa",
        "FJNUwmbgGyua",
        "w6K7xa23Elo4",
        "yQaldy8SH6Dl",
        "PH-0ReGfmX4f",
        "mDgbUHAGgjLW",
        "O_i_v8NEhb9l",
        "HhfV-JJviCcP",
        "Y3lxredqlCYt",
        "3RnN4peoiCZX",
        "x71ZqKXriCWQ",
        "7hBIi_osiCS2",
        "JlHwYmJAmNHm",
        "35m5QtbWiB9F",
        "PoPl-ycgm1ru",
        "H0kj-8xxnORC",
        "nA9Y7ga8ng1Z",
        "PBTbrJXOngz2",
        "u3PMJOP6ngxN",
        "dauF4eBmngu3",
        "bKJF3rekwFvQ",
        "MSa1f5Uengrz",
        "GF8Ens_Soomf",
        "0wOQAZs5pc--",
        "K5QZ13OEpz2H",
        "lQ7QKXXCp7Bj",
        "448CDAPjqfQr",
        "KSlN3yHqYklG",
        "t6dVpIINYklI",
        "ijmpgYnKYklI",
        "-JiQyfWJYklI",
        "EM7whBJCYoAo",
        "fge-S5ZAYoAp",
        "85gYPyotYoAp",
        "RoGjAbkUYoAp",
        "4Of9eVA-YrdM",
        "iky9q4vBYrdO",
        "F6T5p64dYrdO",
        "y-Ehk30pYrdP",
        "bamQiAODYuh1",
        "QHF8YVU7Yuh3",
        "GwzvFGzlYuh3",
        "qYpmQ266Yuh3",
        "OH-pJp9IphqM",
        "bbFf2-_FphqN",
        "_ouA3fa0phqN",
        "Seke61FWphqN",
        "PIIx-8_IphqN",
        "t27r6nlMphqO",
        "r2jJGEOYphqO",
        "b0JNsNcRphqO",
        "BZR9WyysphqO",
        "jj7wYXLtphqO",
        "eZrbJ2SmphqO",
        "rFu4xreNphqO",
        "YJ55k-q6phqO",
        "gCFgpxoyphqP",
        "OVtJsKN_phqQ",
        "lssrdh5qphqQ",
        "U2RJ9gkRphqQ",
        "1M8mcRywphqQ",
        "tgIPom80phqQ",
        "JMzcOPDDphqR",
        "x-EpHcCOp1ci",
        "X_VqEhTip1ck",
        "8zGJKyg5p1ck",
        "PVzmfK_Ep1ck",
        "n3dbpmDWp1ck",
        "ylSl6qgtp1ck",
        "ZWILFDl5p1ck",
        "M7G43BXep1ck",
        "Ag9LCva-p1cl",
        "E6MkPsBcp1cl",
        "2cELzS2fp1cl",
        "3MPXvC8up1cl",
        "NC_X3p0fY2L0",
        "UV0SzAkaZNRQ",
        "YPEH6qLeZNRQ",
        "q29F0dvdveiT",
        "EXh0U9oCveiU",
        "22aHeOlLveiV",
        "JcMwzZxoAimU",
        "8G2x9gOozGDZ",
        "gCX9965dhzqZ",
        "gIfDvo9L0UH2"
      ],
      "include_colab_link": true
    },
    "kernelspec": {
      "name": "python3",
      "display_name": "Python 3"
    },
    "language_info": {
      "name": "python"
    }
  },
  "cells": [
    {
      "cell_type": "markdown",
      "metadata": {
        "id": "view-in-github",
        "colab_type": "text"
      },
      "source": [
        "<a href=\"https://colab.research.google.com/github/prashantrajput0903/Hotel-booking-analysis-EDA-project/blob/main/Prashantof_Sample_EDA_Submission_Template.ipynb\" target=\"_parent\"><img src=\"https://colab.research.google.com/assets/colab-badge.svg\" alt=\"Open In Colab\"/></a>"
      ]
    },
    {
      "cell_type": "markdown",
      "source": [
        "# **Project Name**    - \n",
        "\n"
      ],
      "metadata": {
        "id": "vncDsAP0Gaoa"
      }
    },
    {
      "cell_type": "markdown",
      "source": [
        "##### **Project Type**    - EDA/Regression/Classification/Unsupervised\n",
        "##### **Contribution**    - Individual\n",
        "##### **Name**            - PRASHANT KUMAR"
      ],
      "metadata": {
        "id": "beRrZCGUAJYm"
      }
    },
    {
      "cell_type": "markdown",
      "source": [
        "# **Project Summary -**"
      ],
      "metadata": {
        "id": "FJNUwmbgGyua"
      }
    },
    {
      "cell_type": "markdown",
      "source": [
        "Have you ever wondered when the best time of year to book a hotel room is? Or the optimal length of stay in order to get the best daily rate? What if you wanted to predict whether or not a hotel was likely to receive a disproportionately high number of special requests? This hotel booking dataset can help you explore those questions!\n",
        "\n",
        "This data set contains booking information for a city hotel and a resort hotel, and includes information such as when the booking was made, length of stay, the number of adults, children, and/or babies, and the number of available parking spaces, among other things. All personally identifying information has been removed from the data.\n",
        "\n",
        "#Explore and analyze the data to discover important factors that govern the bookings."
      ],
      "metadata": {
        "id": "F6v_1wHtG2nS"
      }
    },
    {
      "cell_type": "markdown",
      "source": [
        "# **GitHub Link -**"
      ],
      "metadata": {
        "id": "w6K7xa23Elo4"
      }
    },
    {
      "cell_type": "markdown",
      "source": [
        "GitHub Link- https://github.com/prashantrajput0903?tab=repositories"
      ],
      "metadata": {
        "id": "h1o69JH3Eqqn"
      }
    },
    {
      "cell_type": "markdown",
      "source": [
        "# **Problem Statement**\n"
      ],
      "metadata": {
        "id": "yQaldy8SH6Dl"
      }
    },
    {
      "cell_type": "markdown",
      "source": [
        "Have you ever wondered when the best time of year to book a hotel room is? Or the optimal length of stay in order to get the best daily rate? What if you wanted to predict whether or not a hotel was likely to receive a disproportionately high number of special requests? This hotel booking dataset can help you explore those questions! This data set contains booking information for a city hotel and a resort hotel, and includes information such as when the booking was made, length of stay, the number of adults, children, and/or babies, and the number of available parking spaces, among other things. All personally identifying information has been removed from the data. Explore and analyze the data to discover important factors that govern the bookings.\n",
        "\n",
        "#Business Task\n",
        "Analyse the data on bookings of City Hotel and Resort Hotel to gain insights on the different factors that affect the booking. This is undertaken as an individual project."
      ],
      "metadata": {
        "id": "DpeJGUA3kjGy"
      }
    },
    {
      "cell_type": "markdown",
      "source": [
        "#### **Define Your Business Objective?**"
      ],
      "metadata": {
        "id": "PH-0ReGfmX4f"
      }
    },
    {
      "cell_type": "markdown",
      "source": [
        "The chief aim of data analytics to apply statistical analysis and technologies on data to find trends and solve problems."
      ],
      "metadata": {
        "id": "PhDvGCAqmjP1"
      }
    },
    {
      "cell_type": "markdown",
      "source": [
        "# **General Guidelines** : -  "
      ],
      "metadata": {
        "id": "mDgbUHAGgjLW"
      }
    },
    {
      "cell_type": "markdown",
      "source": [
        "1.   Well-structured, formatted, and commented code is required. \n",
        "2.   Exception Handling, Production Grade Code & Deployment Ready Code will be a plus. Those students will be awarded some additional credits. \n",
        "     \n",
        "     The additional credits will have advantages over other students during Star Student selection.\n",
        "       \n",
        "             [ Note: - Deployment Ready Code is defined as, the whole .ipynb notebook should be executable in one go\n",
        "                       without a single error logged. ]\n",
        "\n",
        "3.   Each and every logic should have proper comments.\n",
        "4. You may add as many number of charts you want. Make Sure for each and every chart the following format should be answered.\n",
        "        \n",
        "\n",
        "```\n",
        "# Chart visualization code\n",
        "```\n",
        "            \n",
        "\n",
        "*   Why did you pick the specific chart?\n",
        "*   What is/are the insight(s) found from the chart?\n",
        "* Will the gained insights help creating a positive business impact? \n",
        "Are there any insights that lead to negative growth? Justify with specific reason.\n",
        "\n",
        "5. You have to create at least 20 logical & meaningful charts having important insights.\n",
        "\n",
        "\n",
        "[ Hints : - Do the Vizualization in  a structured way while following \"UBM\" Rule. \n",
        "\n",
        "U - Univariate Analysis,\n",
        "\n",
        "B - Bivariate Analysis (Numerical - Categorical, Numerical - Numerical, Categorical - Categorical)\n",
        "\n",
        "M - Multivariate Analysis\n",
        " ]\n",
        "\n",
        "\n",
        "\n"
      ],
      "metadata": {
        "id": "ZrxVaUj-hHfC"
      }
    },
    {
      "cell_type": "markdown",
      "source": [
        "# ***Let's Begin !***"
      ],
      "metadata": {
        "id": "O_i_v8NEhb9l"
      }
    },
    {
      "cell_type": "markdown",
      "source": [
        "## ***1. Know Your Data***"
      ],
      "metadata": {
        "id": "HhfV-JJviCcP"
      }
    },
    {
      "cell_type": "markdown",
      "source": [
        "### Import Libraries"
      ],
      "metadata": {
        "id": "Y3lxredqlCYt"
      }
    },
    {
      "cell_type": "code",
      "source": [
        "# Import Libraries\n",
        "import numpy as np\n",
        "import pandas as pd\n",
        "import matplotlib.pyplot as plt\n",
        "%matplotlib inline\n",
        "from datetime import datetime\n",
        "import seaborn as sns\n",
        "import ast "
      ],
      "metadata": {
        "id": "M8Vqi-pPk-HR"
      },
      "execution_count": null,
      "outputs": []
    },
    {
      "cell_type": "markdown",
      "source": [
        "### Dataset Loading"
      ],
      "metadata": {
        "id": "3RnN4peoiCZX"
      }
    },
    {
      "cell_type": "code",
      "source": [
        "# Load Dataset\n",
        "from google.colab import drive\n",
        "drive.mount('/content/drive')\n",
        "# Dataset First Look\n",
        "\n",
        "database = \"/content/drive/MyDrive/Hotel Bookings.csv\"\n",
        "df =pd.read_csv(database)"
      ],
      "metadata": {
        "id": "4CkvbW_SlZ_R"
      },
      "execution_count": null,
      "outputs": []
    },
    {
      "cell_type": "markdown",
      "source": [
        "### Dataset First View"
      ],
      "metadata": {
        "id": "x71ZqKXriCWQ"
      }
    },
    {
      "cell_type": "code",
      "source": [
        "df"
      ],
      "metadata": {
        "id": "LWNFOSvLl09H"
      },
      "execution_count": null,
      "outputs": []
    },
    {
      "cell_type": "markdown",
      "source": [
        "### Dataset Rows & Columns count"
      ],
      "metadata": {
        "id": "7hBIi_osiCS2"
      }
    },
    {
      "cell_type": "code",
      "source": [
        "# Dataset Rows & Columns count\n",
        "print(\"Number of Rows =\",df.shape[0])\n",
        "print('')\n",
        "print(\"Number of Columns =\",df.shape[1])"
      ],
      "metadata": {
        "id": "Kllu7SJgmLij"
      },
      "execution_count": null,
      "outputs": []
    },
    {
      "cell_type": "markdown",
      "source": [
        "### Dataset Information"
      ],
      "metadata": {
        "id": "JlHwYmJAmNHm"
      }
    },
    {
      "cell_type": "code",
      "source": [
        "# Dataset Info\n",
        "df.info()"
      ],
      "metadata": {
        "id": "e9hRXRi6meOf"
      },
      "execution_count": null,
      "outputs": []
    },
    {
      "cell_type": "markdown",
      "source": [
        "#### Duplicate Values"
      ],
      "metadata": {
        "id": "35m5QtbWiB9F"
      }
    },
    {
      "cell_type": "code",
      "source": [
        "# Dataset Duplicate Value Count\n",
        "d=df[df.duplicated()]\n",
        "d\n",
        "print(\"Number of Duplicated Rows=\",d.shape[0])"
      ],
      "metadata": {
        "id": "1sLdpKYkmox0"
      },
      "execution_count": null,
      "outputs": []
    },
    {
      "cell_type": "markdown",
      "source": [
        "#### Missing Values/Null Values"
      ],
      "metadata": {
        "id": "PoPl-ycgm1ru"
      }
    },
    {
      "cell_type": "code",
      "source": [
        "# Visualizing the missing values\n",
        "# To get an idea of the amount of null values in every column\n",
        "miss_values =df.isnull().sum().sort_values(ascending=False)\n",
        "miss_values"
      ],
      "metadata": {
        "id": "3q5wnI3om9sJ"
      },
      "execution_count": null,
      "outputs": []
    },
    {
      "cell_type": "markdown",
      "source": [
        "### What did you know about your dataset?"
      ],
      "metadata": {
        "id": "H0kj-8xxnORC"
      }
    },
    {
      "cell_type": "markdown",
      "source": [
        "This data set contains a single file which compares various booking information between two hotels: a city hotel and a resort hotel.Includes information such as when the booking was made, length of stay, the number of adults, children, and/or babies, and the number of available parking spaces, among other things. The dataset contains a total of 119390 rows and 32 columns.Dataset Contains duplicated items i.e 31944 which is removed later .In this dataset we find data types of every columns i.e (Int, float ,string) and observe that some columns data types is not accurate and remove later .We find unique value of every columns it means what actual values in every columns"
      ],
      "metadata": {
        "id": "gfoNAAC-nUe_"
      }
    },
    {
      "cell_type": "markdown",
      "source": [
        "## ***2. Understanding Your Variables***"
      ],
      "metadata": {
        "id": "nA9Y7ga8ng1Z"
      }
    },
    {
      "cell_type": "code",
      "source": [
        "# Dataset Columns\n",
        "df_column = df.columns\n",
        "df_column"
      ],
      "metadata": {
        "id": "j7xfkqrt5Ag5"
      },
      "execution_count": null,
      "outputs": []
    },
    {
      "cell_type": "code",
      "source": [
        "# Dataset Describe\n",
        "\n",
        "df.describe()"
      ],
      "metadata": {
        "id": "DnOaZdaE5Q5t"
      },
      "execution_count": null,
      "outputs": []
    },
    {
      "cell_type": "markdown",
      "source": [
        "### Variables Description "
      ],
      "metadata": {
        "id": "PBTbrJXOngz2"
      }
    },
    {
      "cell_type": "markdown",
      "source": [
        "# Explanation of columns contained in the dataset:\n",
        "\n",
        "\n",
        "1.   hotel : This dataset contains the data of two hotels. One is a 'Resort Hotel' and the other is a 'City Hotel'. \n",
        "\n",
        "2.   is_cancelled : This column contains two values. '0' for did not cancel and '1' for cancelled.\n",
        "\n",
        "3.   lead_time : Number of days between the customer booking the room and actually arriving.\n",
        "\n",
        "4.   arrival_date_year : Year of the date the customer arrived.\n",
        "\n",
        "5.   arrival_date_month : Month of the date the customer arrived.\n",
        "\n",
        "6.   arrival_date_week_number : Week number of the year the customer arrived.\n",
        "\n",
        "7.   arrival_date_day_of_month : Day of the date the customer arrived.\n",
        "\n",
        "8.   stays_in_weekend_nights : Number of days the customer stayed on the weekends.\n",
        "\n",
        "9.   stays_in_week_nights : Number of days the customer stayed on week nights.\n",
        "\n",
        "10.  adults : Number of adults per booking.\n",
        "\n",
        "11.  children : Number of children per booking.\n",
        "\n",
        "12.  babies : Number of babies per booking.\n",
        "\n",
        "13.  meal : Type of meal ordered. The categories are\n",
        "         undefined/SC - no meal package\n",
        "         BB – Bed & Breakfast\n",
        "         HB – Half board (breakfast and one other meal – usually dinner)\n",
        "         FB – Full board (breakfast, lunch and dinner)\n",
        "\n",
        "14.  country : Nationality of the customer.\n",
        "\n",
        "15.  market_segment : Specifies the entity which booked the room,\n",
        "         Direct - By the customer without any third party.\n",
        "         Corporate - By a company for their employee.\n",
        "         Online TA - By an online travel agent.\n",
        "         Offline TA/TO - By an offline travel agent or \n",
        "                         a tour operator.\n",
        "         Complementary - Booked as a gift.\n",
        "         Groups - Bookings of more than one room per booking.\n",
        "         Aviation - Airline companies.\n",
        "\n",
        "16.  distribution_channel : Specifies how the room was booked,\n",
        "         Corporate - by the company.\n",
        "         Direct - by an individual.\n",
        "         TA/TO - by a Travel Agency or Tour Operator.\n",
        "         GDS - Global Distribution System(corporates use these \n",
        "               technology companies for booking for their staff)\n",
        "                  \n",
        "17.  is_repeated_guest : Value 1 for repeated guest and 0 for new guests.\n",
        "\n",
        "18.  previous_cancellations : Number of previous bookings that were cancelled  by the customer prior to the current booking.\n",
        "\n",
        "19.  previous_bookings_not_canceled : Number of previous bookings not cancelled by the customer prior to the current booking.\n",
        "\n",
        "20.  reserved_room_type : Code of room type reserved.\n",
        "\n",
        "21.  assigned_room_type : Code for the type of room assigned to the booking.\n",
        "\n",
        "22.  booking_changes : \tNumber of changes/amendments made to the booking from the moment the booking was made until the moment of check-in or cancellation.\n",
        "\n",
        "23.  deposit_type : Whether the customer gave an advance deposit,\n",
        "         No Deposit – no deposit was made.\n",
        "         Non Refund – a deposit was made in the value of the \n",
        "         total stay cost.\n",
        "         Refundable – a deposit was made with a value under \n",
        "                      the total cost of stay.\n",
        "\n",
        "24.  agent : ID of the travel agency that made the booking.\n",
        "\n",
        "25.  company : ID of the company/entity that made the booking or responsible for paying the booking. \n",
        "\n",
        "26.  days_in_waiting_list : Number of days the booking was in the waiting list before it was confirmed to the customer.\n",
        "\n",
        "27.  customer_type : Type of customer, assuming one of four categories,\n",
        "         Contract - arrangement between the hotel and a company\n",
        "         Group – the customer booked multiple rooms. This is usually done in the case where people come to attend a function or conference.\n",
        "         Transient – the customer is a walk in or a last minute booking.\n",
        "         Transient-party – a group of transient customers.\n",
        "\n",
        "28.  adr : Average Daily Rate, calculated by dividing the sum of all lodging transactions by the total number of staying nights.\n",
        "\n",
        "29.  required_car_parking_spaces : Number of car parking spaces required by the customer.\n",
        "\n",
        "30.  total_of_special_requests : Number of special requests made by the customer (e.g. twin bed or high floor).\n",
        "\n",
        "31.  reservation_status : Reservation last status,\n",
        "         Canceled – booking was canceled by the customer;\n",
        "         Check-Out – customer has checked in but \n",
        "                     already departed;\n",
        "         No-Show – customer did not check-in and did \n",
        "                   inform the hotel of the reason why\n",
        "\n",
        "32.  reservation_status_date : Date at which the last status was set."
      ],
      "metadata": {
        "id": "aJV4KIxSnxay"
      }
    },
    {
      "cell_type": "markdown",
      "source": [
        "### Check Unique Values for each variable."
      ],
      "metadata": {
        "id": "u3PMJOP6ngxN"
      }
    },
    {
      "cell_type": "code",
      "source": [
        "# Check Unique Values for each variable.\n",
        "# Check Unique Values for each variable.\n",
        "print(df.apply(lambda col: col.unique())) # We have describes unique value in all individual column."
      ],
      "metadata": {
        "id": "zms12Yq5n-jE"
      },
      "execution_count": null,
      "outputs": []
    },
    {
      "cell_type": "markdown",
      "source": [
        "## 3. ***Data Wrangling***"
      ],
      "metadata": {
        "id": "dauF4eBmngu3"
      }
    },
    {
      "cell_type": "markdown",
      "source": [
        "#Data Cleaning\n"
      ],
      "metadata": {
        "id": "UpEIALQBJ5Ru"
      }
    },
    {
      "cell_type": "code",
      "source": [
        "#to fill the NaN value in the column, let's check which colomns has null value, we have already stored the same.\n",
        "miss_values[:4]"
      ],
      "metadata": {
        "id": "5ny3Dhr0J9cL"
      },
      "execution_count": null,
      "outputs": []
    },
    {
      "cell_type": "code",
      "source": [
        "# To find the percentage of null values out of the total number of rows.\n",
        "df[['children', 'country', 'agent', 'company']].isnull().sum() / 119390"
      ],
      "metadata": {
        "id": "wylUdOedKbvS"
      },
      "execution_count": null,
      "outputs": []
    },
    {
      "cell_type": "markdown",
      "source": [
        "In the columns children and country only 0.003 % and 0.41 % have null values. This is negligible. Therefore, the corresponding rows can be ignored. However, for the columns agent and company the percentage of null rows is relatively high. Trustworthy insights cannot be obtained in such conditions hence we delete these columns."
      ],
      "metadata": {
        "id": "qQjl79maKyKQ"
      }
    },
    {
      "cell_type": "code",
      "source": [
        "# Deleting two columns and deleting rows which contains null values.\n",
        "df = df.drop(['agent', 'company'], axis = 1)\n",
        "df = df.dropna(axis = 0)"
      ],
      "metadata": {
        "id": "4pNO-BzGKvBV"
      },
      "execution_count": null,
      "outputs": []
    },
    {
      "cell_type": "markdown",
      "source": [
        "There are also some instances of 'undefined'."
      ],
      "metadata": {
        "id": "5BegnfUMK9Gf"
      }
    },
    {
      "cell_type": "code",
      "source": [
        "# Checking which columns have 'Undefined' in them.\n",
        "(df == 'Undefined').any()"
      ],
      "metadata": {
        "id": "JLYnmaMVK4wb"
      },
      "execution_count": null,
      "outputs": []
    },
    {
      "cell_type": "markdown",
      "source": [
        "We can see that there are two columns which have 'undefined' values, meals and distribution_channel. 'Undefined' in meals suggests that the customer did not opt for any food from the hotel. The code in meals column 'SC' which stands for self catered also means the same. Therefore, we can change 'undefined' to 'SC'."
      ],
      "metadata": {
        "id": "_3EoE7tWLNXO"
      }
    },
    {
      "cell_type": "code",
      "source": [
        "df['meal'].value_counts()"
      ],
      "metadata": {
        "id": "uU1thLNcLBG-"
      },
      "execution_count": null,
      "outputs": []
    },
    {
      "cell_type": "code",
      "source": [
        "df['meal'].replace({'Undefined' : 'SC'}, inplace = True)"
      ],
      "metadata": {
        "id": "p78qVW4nLU6Z"
      },
      "execution_count": null,
      "outputs": []
    },
    {
      "cell_type": "code",
      "source": [
        "df['distribution_channel'].value_counts()"
      ],
      "metadata": {
        "id": "oMIgo6piLZZC"
      },
      "execution_count": null,
      "outputs": []
    },
    {
      "cell_type": "code",
      "source": [
        "hotel_booking_df = df[df['distribution_channel'].str.contains('Undefined')==False]"
      ],
      "metadata": {
        "id": "mVS6QAS0LcL-"
      },
      "execution_count": null,
      "outputs": []
    },
    {
      "cell_type": "markdown",
      "source": [
        "Combining the arrival year, month and date columns into one so that it is easy to work with.\n"
      ],
      "metadata": {
        "id": "VJm2fFW5Lii0"
      }
    },
    {
      "cell_type": "code",
      "source": [
        "df['arrival_date_day_of_month'] = df['arrival_date_day_of_month'].astype(str) + '/' + df['arrival_date_month'] +  '/' +  df['arrival_date_year'].astype(str)"
      ],
      "metadata": {
        "id": "YjCP64aWLgpC"
      },
      "execution_count": null,
      "outputs": []
    },
    {
      "cell_type": "code",
      "source": [
        "df.head()"
      ],
      "metadata": {
        "id": "3Ef6T2cuLt-D"
      },
      "execution_count": null,
      "outputs": []
    },
    {
      "cell_type": "code",
      "source": [
        "df['arrival_date_day_of_month'] = pd.to_datetime(df['arrival_date_day_of_month'])"
      ],
      "metadata": {
        "id": "JMYbsNcKLpIB"
      },
      "execution_count": null,
      "outputs": []
    },
    {
      "cell_type": "code",
      "source": [
        "df.head()"
      ],
      "metadata": {
        "id": "TXmldGqHL45-"
      },
      "execution_count": null,
      "outputs": []
    },
    {
      "cell_type": "code",
      "source": [
        "df.drop(['arrival_date_year', 'arrival_date_month'], axis = 1, inplace = True)"
      ],
      "metadata": {
        "id": "AvAY9cdCL8iZ"
      },
      "execution_count": null,
      "outputs": []
    },
    {
      "cell_type": "code",
      "source": [
        "df.rename({'arrival_date_day_of_month' : 'arrival_date'}, axis = 1, inplace = True)"
      ],
      "metadata": {
        "id": "PpcJIRFDMBlr"
      },
      "execution_count": null,
      "outputs": []
    },
    {
      "cell_type": "code",
      "source": [
        "df.head()"
      ],
      "metadata": {
        "id": "GNxKSnMlML1O"
      },
      "execution_count": null,
      "outputs": []
    },
    {
      "cell_type": "markdown",
      "source": [
        "## ***4. Data Vizualization, Storytelling & Experimenting with charts : Understand the relationships between variables***"
      ],
      "metadata": {
        "id": "GF8Ens_Soomf"
      }
    },
    {
      "cell_type": "markdown",
      "source": [
        "#### Chart - 1\n"
      ],
      "metadata": {
        "id": "0wOQAZs5pc--"
      }
    },
    {
      "cell_type": "markdown",
      "source": [
        "\n",
        "#1. What is the percentage of cancellations ?"
      ],
      "metadata": {
        "id": "4JQy74Z4Me9P"
      }
    },
    {
      "cell_type": "code",
      "source": [
        "# Determining cancellations per hotel\n",
        "# 0 is not cancelled and 1 is cancelled\n",
        "cancellations = df.groupby(['hotel', 'is_canceled']).size()\n",
        "\n",
        "pd.DataFrame(cancellations, columns = ['Number of cancellations']).reset_index()"
      ],
      "metadata": {
        "id": "2Eeo2c5LMiWx"
      },
      "execution_count": null,
      "outputs": []
    },
    {
      "cell_type": "code",
      "source": [
        "# Calculating percentage of cancellations and storing it in a dataframe\n",
        "cancellations_df = pd.DataFrame(data = [['City Hotel', cancellations['City Hotel'][1]/(cancellations['City Hotel'][1]+cancellations['City Hotel'][0])*100],\n",
        "                                        ['Resort Hotel', cancellations['Resort Hotel'][1]/(cancellations['Resort Hotel'][1]+cancellations['Resort Hotel'][0])*100]], \n",
        "                                        columns = ['Hotel', 'Percentage of cancellations'], index = [1,2])\n",
        "cancellations_df"
      ],
      "metadata": {
        "id": "C8LZsx5mM4Xt"
      },
      "execution_count": null,
      "outputs": []
    },
    {
      "cell_type": "code",
      "source": [
        "# Chart - 1 visualization code\n",
        "# Plotting the cancellation percentage\n",
        "sns.set_theme(style=\"whitegrid\")\n",
        "plt.subplots(figsize = (4,6))\n",
        "sns.barplot(data = cancellations_df, x = 'Hotel', y = 'Percentage of cancellations').set_title('Cancellation percentage')"
      ],
      "metadata": {
        "id": "7v_ESjsspbW7"
      },
      "execution_count": null,
      "outputs": []
    },
    {
      "cell_type": "markdown",
      "source": [
        "##### 1. Why did you pick the specific chart?"
      ],
      "metadata": {
        "id": "K5QZ13OEpz2H"
      }
    },
    {
      "cell_type": "markdown",
      "source": [
        "To Get Which Hotel Have More Percentage of Cancellations"
      ],
      "metadata": {
        "id": "XESiWehPqBRc"
      }
    },
    {
      "cell_type": "markdown",
      "source": [
        "##### 2. What is/are the insight(s) found from the chart?"
      ],
      "metadata": {
        "id": "lQ7QKXXCp7Bj"
      }
    },
    {
      "cell_type": "markdown",
      "source": [
        "Resort hotels have a lower rate of cancellations than city hotel. This might be because of low bookings in resort hotel for business purposes, which has a high chance of getting rescheduled. But there are less chances for vacations to get rescheduled."
      ],
      "metadata": {
        "id": "C_j1G7yiqdRP"
      }
    },
    {
      "cell_type": "markdown",
      "source": [
        "##### 3. Will the gained insights help creating a positive business impact? \n",
        "Are there any insights that lead to negative growth? Justify with specific reason."
      ],
      "metadata": {
        "id": "448CDAPjqfQr"
      }
    },
    {
      "cell_type": "markdown",
      "source": [
        "More investigation has to be done and to find out the exact reason for the high number of cancellations."
      ],
      "metadata": {
        "id": "3cspy4FjqxJW"
      }
    },
    {
      "cell_type": "markdown",
      "source": [
        "# Chart - 2"
      ],
      "metadata": {
        "id": "KSlN3yHqYklG"
      }
    },
    {
      "cell_type": "markdown",
      "source": [
        "#Which customers types do the hotel attract the most?"
      ],
      "metadata": {
        "id": "pQZ_yR4b8nOi"
      }
    },
    {
      "cell_type": "code",
      "source": [
        "# Finding out the various customer types and their count.\n",
        "group_customer = pd.DataFrame(data = df.groupby(['hotel','customer_type']).size()).reset_index()\n",
        "group_customer.rename(columns = {'hotel' : 'Hotel', 'customer_type' : 'Customer Type', 0 : 'Count'}, inplace = True)\n",
        "group_customer\n"
      ],
      "metadata": {
        "id": "KEhewfnd8xM-"
      },
      "execution_count": null,
      "outputs": []
    },
    {
      "cell_type": "code",
      "source": [
        "# Chart - 2 visualization code\n",
        "# Plotting pie charts for the two hotels.\n",
        "fig = plt.figure()\n",
        "ax1 = fig.add_axes([0, 1, .5, .5], aspect=1)\n",
        "ax1.pie(group_customer.loc[group_customer['Hotel'] == 'City Hotel']['Count'], labels = group_customer.loc[group_customer['Hotel'] == 'City Hotel']['Customer Type'],\n",
        "        radius = 2,\n",
        "        wedgeprops = { 'linewidth' : 3, 'edgecolor' : 'white' })\n",
        "ax2 = fig.add_axes([1, 1, .5, .5], aspect=1)\n",
        "ax2.pie(group_customer.loc[group_customer['Hotel'] == 'Resort Hotel']['Count'], labels = group_customer.loc[group_customer['Hotel'] == 'Resort Hotel']['Customer Type'],\n",
        "        radius = 2,\n",
        "        wedgeprops = { 'linewidth' : 3, 'edgecolor' : 'white' })\n",
        "ax1.set_title('City Hotel')\n",
        "ax2.set_title('Resort Hotel')\n",
        "plt.show()\n"
      ],
      "metadata": {
        "id": "R4YgtaqtYklH"
      },
      "execution_count": null,
      "outputs": []
    },
    {
      "cell_type": "markdown",
      "source": [
        "##### 1. Why did you pick the specific chart?"
      ],
      "metadata": {
        "id": "t6dVpIINYklI"
      }
    },
    {
      "cell_type": "markdown",
      "source": [
        "The above categories mean:\n",
        "\n",
        "\n",
        "Contract - when the booking has a contract associated to it, for example, between the hotel and a company.\n",
        "Group – many rooms are booked together.\n",
        "Transient – the customer is a walk in or a spontaneous book-in.\n",
        "Transient-party – multiple rooms are booked but by transient guests."
      ],
      "metadata": {
        "id": "5aaW0BYyYklI"
      }
    },
    {
      "cell_type": "markdown",
      "source": [
        "##### 2. What is/are the insight(s) found from the chart?"
      ],
      "metadata": {
        "id": "ijmpgYnKYklI"
      }
    },
    {
      "cell_type": "markdown",
      "source": [
        "We can see that 'Transient' bookings is much higher than the other categories. we can safely say that these hotels are not booked in advance. They are booked spontaneously. This might be an indication of good visibilities of these hotels. These hotels might be situated in strategic locations with respect to travellers. Additionally, these hotels have more scope of imporvement in the contract category."
      ],
      "metadata": {
        "id": "PSx9atu2YklI"
      }
    },
    {
      "cell_type": "markdown",
      "source": [
        "##### 3. Will the gained insights help creating a positive business impact? \n",
        "Are there any insights that lead to negative growth? Justify with specific reason."
      ],
      "metadata": {
        "id": "-JiQyfWJYklI"
      }
    },
    {
      "cell_type": "markdown",
      "source": [
        "Contract bookings can be incresed by tying up with more companies."
      ],
      "metadata": {
        "id": "BcBbebzrYklV"
      }
    },
    {
      "cell_type": "markdown",
      "source": [
        "#### Chart - 3"
      ],
      "metadata": {
        "id": "EM7whBJCYoAo"
      }
    },
    {
      "cell_type": "markdown",
      "source": [
        "#From which countries the majority of the guests come?"
      ],
      "metadata": {
        "id": "D0uonaC099gz"
      }
    },
    {
      "cell_type": "code",
      "source": [
        "# Finding the top 5 countries from where guests come.\n",
        "group_country = pd.DataFrame(data = df['country'].value_counts().nlargest(5))\n",
        "group_country.reset_index(inplace = True)\n",
        "group_country.index = [1,2,3,4,5]\n",
        "group_country"
      ],
      "metadata": {
        "id": "u9igECZK-DjM"
      },
      "execution_count": null,
      "outputs": []
    },
    {
      "cell_type": "markdown",
      "source": [
        "Country codes:-\n",
        "\n",
        "PRT - Portugal\n",
        "\n",
        "GBR - Great Britain\n",
        "\n",
        "FRA - France\n",
        "\n",
        "ESP - Spain\n",
        "\n",
        "DEU - Germany"
      ],
      "metadata": {
        "id": "Di_6Rgll-LaC"
      }
    },
    {
      "cell_type": "code",
      "source": [
        "# Chart - 3 visualization code\n",
        "# Plotting a donut chart to show the number of guests from the top 5 countries.\n",
        "plt.pie(group_country['country'], labels=group_country['index'], colors=['violet','green','blue','skyblue','cyan'], wedgeprops = { 'linewidth' : 7, 'edgecolor' : 'white' })\n",
        "plot_circle = plt.Circle( (0,0), 0.6, color='white')\n",
        "p = plt.gcf()\n",
        "p.gca().add_artist(plot_circle)\n",
        "plt.show()"
      ],
      "metadata": {
        "id": "t6GMdE67YoAp"
      },
      "execution_count": null,
      "outputs": []
    },
    {
      "cell_type": "markdown",
      "source": [
        "##### 1. Why did you pick the specific chart?"
      ],
      "metadata": {
        "id": "fge-S5ZAYoAp"
      }
    },
    {
      "cell_type": "markdown",
      "source": [
        "From the above graph we can conclude that these hotels have the largest number of visitors from Portugal followed by Great Britan. The data is from two hotels in Portugal. "
      ],
      "metadata": {
        "id": "5dBItgRVYoAp"
      }
    },
    {
      "cell_type": "markdown",
      "source": [
        "##### 2. What is/are the insight(s) found from the chart?"
      ],
      "metadata": {
        "id": "85gYPyotYoAp"
      }
    },
    {
      "cell_type": "markdown",
      "source": [
        " This means that locals like the hotel."
      ],
      "metadata": {
        "id": "4jstXR6OYoAp"
      }
    },
    {
      "cell_type": "markdown",
      "source": [
        "##### 3. Will the gained insights help creating a positive business impact? \n",
        "Are there any insights that lead to negative growth? Justify with specific reason."
      ],
      "metadata": {
        "id": "RoGjAbkUYoAp"
      }
    },
    {
      "cell_type": "markdown",
      "source": [
        "If locals like the hotel then the price might be right, as usually the local population know about the hotels in their country and will not book in if they think the price is too high."
      ],
      "metadata": {
        "id": "zfJ8IqMcYoAp"
      }
    },
    {
      "cell_type": "markdown",
      "source": [
        "#### Chart - 4"
      ],
      "metadata": {
        "id": "4Of9eVA-YrdM"
      }
    },
    {
      "cell_type": "markdown",
      "source": [
        "#4. By what means the guests book their rooms?"
      ],
      "metadata": {
        "id": "bLNCU6WD-mGw"
      }
    },
    {
      "cell_type": "code",
      "source": [
        "# Grouping the market segment and counting the number of times each segment is used.\n",
        "group_market_segment = pd.DataFrame(df.groupby(['market_segment']).size())\n",
        "group_market_segment.reset_index(inplace = True)\n",
        "group_market_segment.index = np.arange(1, len(group_market_segment) + 1)\n",
        "group_market_segment.columns = ['Market Segment', 'Count']\n",
        "group_market_segment"
      ],
      "metadata": {
        "id": "mnM7qubF-vZ0"
      },
      "execution_count": null,
      "outputs": []
    },
    {
      "cell_type": "markdown",
      "source": [
        "ategory definitions:-\n",
        "\n",
        "\n",
        "Direct - By the customer without any third party.\n",
        "\n",
        "Corporate - By a company.\n",
        "\n",
        "Online TA - By an online travel agent.\n",
        "\n",
        "Offline TA/TO - By an offline travel agent or a tour operator.\n",
        "\n",
        "Complementary - Booked as a gift.\n",
        "\n",
        "Groups - Bookings of more than one room.\n",
        "\n",
        "Aviation - Airline companies."
      ],
      "metadata": {
        "id": "3qlTR0mH-3lp"
      }
    },
    {
      "cell_type": "code",
      "source": [
        "# Chart - 4 visualization code\n",
        "# Plotting a horizontal bar plot to visualize the market segment.\n",
        "sns.set_theme(style=\"whitegrid\")\n",
        "plt.subplots(figsize=(6, 5))\n",
        "sns.barplot(x='Count', y= 'Market Segment', data=group_market_segment, orient = 'h')"
      ],
      "metadata": {
        "id": "irlUoxc8YrdO"
      },
      "execution_count": null,
      "outputs": []
    },
    {
      "cell_type": "markdown",
      "source": [
        "##### 1. Why did you pick the specific chart?"
      ],
      "metadata": {
        "id": "iky9q4vBYrdO"
      }
    },
    {
      "cell_type": "markdown",
      "source": [
        "We can see that most of the bookings are done through online travel agents like makemytrip.com."
      ],
      "metadata": {
        "id": "aJRCwT6DYrdO"
      }
    },
    {
      "cell_type": "markdown",
      "source": [
        "##### 2. What is/are the insight(s) found from the chart?"
      ],
      "metadata": {
        "id": "F6T5p64dYrdO"
      }
    },
    {
      "cell_type": "markdown",
      "source": [
        "This means that these hotels have a good online presence and good online reviews. However the management can focus on increasing corporate sign ins and aviation contracts. "
      ],
      "metadata": {
        "id": "Xx8WAJvtYrdO"
      }
    },
    {
      "cell_type": "markdown",
      "source": [
        "##### 3. Will the gained insights help creating a positive business impact? \n",
        "Are there any insights that lead to negative growth? Justify with specific reason."
      ],
      "metadata": {
        "id": "y-Ehk30pYrdP"
      }
    },
    {
      "cell_type": "markdown",
      "source": [
        "This will also help them to get a continuos revenue."
      ],
      "metadata": {
        "id": "jLNxxz7MYrdP"
      }
    },
    {
      "cell_type": "markdown",
      "source": [
        "#### Chart - 5"
      ],
      "metadata": {
        "id": "bamQiAODYuh1"
      }
    },
    {
      "cell_type": "markdown",
      "source": [
        "\n",
        "# 5. How much time in advance do the customers book their rooms?\n",
        "\n"
      ],
      "metadata": {
        "id": "lKIZkUg3_VSS"
      }
    },
    {
      "cell_type": "code",
      "source": [
        "# Finding out the distribution of lead times for both the hotels\n",
        "group_lead_time = df.groupby(['hotel', 'lead_time'], as_index = False).size()\n",
        "lead_time_df = pd.DataFrame(data = group_lead_time)\n",
        "lead_time_df.rename(columns = {'hotel' : 'Hotel', 'lead_time' : 'Lead Time', 'size' : 'Count'}, inplace = True)\n",
        "lead_time_df"
      ],
      "metadata": {
        "id": "X7Lf1ArJ_YN7"
      },
      "execution_count": null,
      "outputs": []
    },
    {
      "cell_type": "code",
      "source": [
        "# Chart - 5 visualization code\n",
        "# Creating a scatterplot to visualize the distribution.\n",
        "sns.set_theme(style=\"whitegrid\")\n",
        "plt.subplots(figsize = (30,10))\n",
        "sns.scatterplot(data = lead_time_df, x = 'Lead Time', y = 'Count', hue = 'Hotel').set_title('Distribution of lead times')\n",
        "plt.show()"
      ],
      "metadata": {
        "id": "TIJwrbroYuh3"
      },
      "execution_count": null,
      "outputs": []
    },
    {
      "cell_type": "markdown",
      "source": [
        "\n",
        "\n",
        "```\n",
        "`# This is formatted as code`\n",
        "```\n",
        "\n",
        "##### 1. Why did you pick the specific chart?"
      ],
      "metadata": {
        "id": "QHF8YVU7Yuh3"
      }
    },
    {
      "cell_type": "markdown",
      "source": [
        "From the above plot we can see that the highest number of bookings were done on the same day as the check in."
      ],
      "metadata": {
        "id": "dcxuIMRPYuh3"
      }
    },
    {
      "cell_type": "markdown",
      "source": [
        "##### 2. What is/are the insight(s) found from the chart?"
      ],
      "metadata": {
        "id": "GwzvFGzlYuh3"
      }
    },
    {
      "cell_type": "markdown",
      "source": [
        "Both these hotels are booked comparitively close to the check in date. This graph also verifies our findings regarding the 'Transient' customers."
      ],
      "metadata": {
        "id": "uyqkiB8YYuh3"
      }
    },
    {
      "cell_type": "markdown",
      "source": [
        "##### 3. Will the gained insights help creating a positive business impact? \n",
        "Are there any insights that lead to negative growth? Justify with specific reason."
      ],
      "metadata": {
        "id": "qYpmQ266Yuh3"
      }
    },
    {
      "cell_type": "markdown",
      "source": [
        "Clearly majority of the guests who visit this hotel and spontaneous or last minute booking customers.\n",
        "\n"
      ],
      "metadata": {
        "id": "_WtzZ_hCYuh4"
      }
    },
    {
      "cell_type": "markdown",
      "source": [
        "#### Chart - 6"
      ],
      "metadata": {
        "id": "OH-pJp9IphqM"
      }
    },
    {
      "cell_type": "markdown",
      "source": [
        "#What is the Graph of Market Segment?"
      ],
      "metadata": {
        "id": "8GLujLegkP7r"
      }
    },
    {
      "cell_type": "code",
      "source": [
        "plt.figure( figsize=(15,6))\n",
        "sns.countplot(df['market_segment'],palette='husl')\n",
        "plt.show()"
      ],
      "metadata": {
        "id": "2G3uBPrkAVEb"
      },
      "execution_count": null,
      "outputs": []
    },
    {
      "cell_type": "markdown",
      "source": [
        "#Asking and Answering Question\n"
      ],
      "metadata": {
        "id": "P1d2FpyBuvQN"
      }
    },
    {
      "cell_type": "markdown",
      "source": [
        "Now we will ask and answer some interesting questions about the data."
      ],
      "metadata": {
        "id": "RoXpEygMwmHZ"
      }
    },
    {
      "cell_type": "markdown",
      "source": [
        "Which are the three most common and uncommon countries of origin?\n"
      ],
      "metadata": {
        "id": "1jrYIa-gwogG"
      }
    },
    {
      "cell_type": "code",
      "source": [
        "print('Most common countries:')\n",
        "print(df.country.value_counts().head(3))\n",
        "print('-'*50)\n",
        "print('\\n Most uncommon countries:')\n",
        "print(df.country.value_counts().tail(35))"
      ],
      "metadata": {
        "id": "OSaTqtMWwsVz"
      },
      "execution_count": null,
      "outputs": []
    },
    {
      "cell_type": "markdown",
      "source": [
        "As we can see, Portugal tops the list with 48,586 of the cases, followed by Great Britain with 12,129 and France with 10,415.\n",
        "\n",
        "There are 30 countries that can be considered as the most uncommon country of origin, with 1 guest per country. Among these, we have Madagascar, Dominica, Mali, Guyana, Palau, Kiribati, Sudan, etc."
      ],
      "metadata": {
        "id": "S69Pijcdwy2z"
      }
    },
    {
      "cell_type": "markdown",
      "source": [
        "2. Which are the months of highest and least occupation?\n",
        "\n",
        "\n",
        "\n"
      ],
      "metadata": {
        "id": "Xvyj80uZwzm4"
      }
    },
    {
      "cell_type": "code",
      "source": [
        "df.arrival_date_month.value_counts(normalize=True)"
      ],
      "metadata": {
        "id": "qXQx3Q00w6d5"
      },
      "execution_count": null,
      "outputs": []
    },
    {
      "cell_type": "markdown",
      "source": [
        "The month of highest occupation is august with 11.65% of the reservations. The month of lest occupation is january with 4.94% of the reservations."
      ],
      "metadata": {
        "id": "NsAWmoKNw44L"
      }
    },
    {
      "cell_type": "markdown",
      "source": [
        "3. What is the most popular meal package?\n"
      ],
      "metadata": {
        "id": "lZKoM_kOxLR2"
      }
    },
    {
      "cell_type": "code",
      "source": [
        "df.meal.value_counts(normalize=True)"
      ],
      "metadata": {
        "id": "9X4KXHjtxaF_"
      },
      "execution_count": null,
      "outputs": []
    },
    {
      "cell_type": "markdown",
      "source": [
        "The Bed & Breakfast option is the most popular, with a frequency of 77.26%.\n",
        "\n"
      ],
      "metadata": {
        "id": "yAjx3qQFxr9h"
      }
    },
    {
      "cell_type": "markdown",
      "source": [
        "4. Which is the most reserved room type?"
      ],
      "metadata": {
        "id": "aLfU-JCpxt2I"
      }
    },
    {
      "cell_type": "code",
      "source": [
        "df.reserved_room_type.value_counts(normalize=True)"
      ],
      "metadata": {
        "id": "BrFPd1tDxww8"
      },
      "execution_count": null,
      "outputs": []
    },
    {
      "cell_type": "markdown",
      "source": [
        "The “A” room type is the most popular among the clients, with 71.99% of the reservations."
      ],
      "metadata": {
        "id": "2lbBE02ix0yA"
      }
    },
    {
      "cell_type": "markdown",
      "source": [
        "5. How many bookings changes have been done during the studied period?"
      ],
      "metadata": {
        "id": "S-44p82Cx4ml"
      }
    },
    {
      "cell_type": "code",
      "source": [
        "df.booking_changes.sum()"
      ],
      "metadata": {
        "id": "k8RIVDX-x8b9"
      },
      "execution_count": null,
      "outputs": []
    },
    {
      "cell_type": "markdown",
      "source": [
        "There were 25,829 registered changes in the bookings during this period."
      ],
      "metadata": {
        "id": "ZPcPqVRbyADW"
      }
    },
    {
      "cell_type": "markdown",
      "source": [
        "7. How many car parking spaces have been used?"
      ],
      "metadata": {
        "id": "-oc_6VUayYel"
      }
    },
    {
      "cell_type": "code",
      "source": [
        "df.required_car_parking_spaces.sum()"
      ],
      "metadata": {
        "id": "IoRw4zJoxz8b"
      },
      "execution_count": null,
      "outputs": []
    },
    {
      "cell_type": "markdown",
      "source": [
        "7,342 car parking spaces have been used."
      ],
      "metadata": {
        "id": "BgA3tjxVyd7x"
      }
    },
    {
      "cell_type": "markdown",
      "source": [
        "\n",
        "8. What is the most common customer type?\n",
        "\n"
      ],
      "metadata": {
        "id": "Pltjkk3HyfA2"
      }
    },
    {
      "cell_type": "code",
      "source": [
        "df.customer_type.value_counts(normalize=True)"
      ],
      "metadata": {
        "id": "Xx_etItExoBp"
      },
      "execution_count": null,
      "outputs": []
    },
    {
      "cell_type": "markdown",
      "source": [
        "Trasients are the most common customer type, they represent 75% of the total customers."
      ],
      "metadata": {
        "id": "_9_dS55Ryq8r"
      }
    },
    {
      "cell_type": "markdown",
      "source": [
        "#5. Solution to Business Objective"
      ],
      "metadata": {
        "id": "tOAjjIoVAWU3"
      }
    },
    {
      "cell_type": "markdown",
      "source": [
        "#Data Description\n",
        "This data set contains booking information for a city hotel and a resort hotel and includes information such as when the booking was made, length of stay, the number of adults, children, and/or babies, and the number of available parking spaces, among other things.\n",
        "\n",
        "#Model Prediction\n",
        "All personally identifying information has been removed from the data. And also required things have been done for the given dataset.\n",
        "\n",
        "And in this given dataset I had done only Exploratory Data analysis and analyzed my model."
      ],
      "metadata": {
        "id": "AkDsuBJHAueT"
      }
    },
    {
      "cell_type": "markdown",
      "source": [
        "#Conclusion"
      ],
      "metadata": {
        "id": "_HdlxgamA2EI"
      }
    },
    {
      "cell_type": "markdown",
      "source": [
        "Built this data analysis model by using some plotting techniques. Analyzed model using Barplot, Subplot, and Pie Graph."
      ],
      "metadata": {
        "id": "liypDH-AA7eL"
      }
    }
  ]
}